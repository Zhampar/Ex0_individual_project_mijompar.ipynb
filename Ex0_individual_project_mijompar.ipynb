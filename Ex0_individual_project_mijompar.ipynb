{
  "cells": [
    {
      "cell_type": "markdown",
      "metadata": {
        "id": "view-in-github",
        "colab_type": "text"
      },
      "source": [
        "<a href=\"https://colab.research.google.com/github/Zhampar/Ex0_individual_project_mijompar.ipynb/blob/main/Ex0_individual_project_mijompar.ipynb\" target=\"_parent\"><img src=\"https://colab.research.google.com/assets/colab-badge.svg\" alt=\"Open In Colab\"/></a>"
      ]
    },
    {
      "cell_type": "markdown",
      "metadata": {
        "id": "-1ha-NJ3gQ3J"
      },
      "source": [
        "1) Write a Python program in the below cell to create a dictionary that count the frequency of words in the string given in Q1.txt. Find the most frequent occured word.\n",
        "\n",
        "Don't remove the comment lines provided."
      ]
    },
    {
      "cell_type": "code",
      "execution_count": null,
      "metadata": {
        "id": "GssjPHpggQ3L"
      },
      "outputs": [],
      "source": [
        "#step 1: read content from Q1.txt\n",
        "with open('./data/Q1.txt', 'r') as file1:\n",
        "    word_string = file1.read()\n",
        "\n",
        "#step 2.1 - change the case to upper or lower.\n",
        "word_string = word_string.lower()\n",
        "\n",
        "#step 2.2 - remove pun : use replace\n",
        "for p in '.,!?;:\"()[]{}':\n",
        "    word_string = word_string.replace(p, '')\n",
        "\n",
        "#step 2.3 - split using space\n",
        "words = word_string.split()\n",
        "\n",
        "#Step 3: create a dictionary\n",
        "word_freq = {}\n",
        "for word in words:\n",
        "    word_freq[word] = word_freq.get(word, 0) + 1\n",
        "\n",
        "#Step 4: find the most frequent occured one\n",
        "most_frequent_word = max(word_freq, key=word_freq.get)\n",
        "print(\"Most frequent word:\", most_frequent_word)\n",
        "print(\"Frequency:\", word_freq[most_frequent_word])\n",
        "\n",
        "\n",
        "\n"
      ]
    },
    {
      "cell_type": "markdown",
      "metadata": {
        "id": "FlBQpaA4gQ3N"
      },
      "source": [
        "2) Write a Python program to read the name from Q2.txt and create email using domain 'simons-rock.edu' and save the results as dictionary : {'name': 'name@simons-rock.edu'}.\n",
        "Please take note that your email should not include space or any special characters and all charcters should be in lowercase."
      ]
    },
    {
      "cell_type": "code",
      "execution_count": null,
      "metadata": {
        "id": "79dvikOhgQ3N"
      },
      "outputs": [],
      "source": [
        "#step 1: read Q2. txt into the list\n",
        "with open('./data/Q2.txt', 'r') as names:\n",
        "    header = names.readline()\n",
        "    namelist = names.readlines()\n",
        "\n",
        "#step 2: create email for each name in the list and save them in the dictionary\n",
        "# You need to do the necessary data cleaning\n",
        "# For example, removing the space and special characters if there is any, converting them to lower case\n",
        "\n",
        "email_dict = {}\n",
        "\n",
        "for name in namelist:\n",
        "    # strip leading/trailing space and remove special characters\n",
        "    cleaned_name = ''.join(char for char in name.strip() if char.isalnum()).lower()\n",
        "    email = f\"{cleaned_name}@simons-rock.edu\"\n"
      ]
    },
    {
      "cell_type": "markdown",
      "metadata": {
        "id": "K3AjMWeugQ3O"
      },
      "source": [
        "3) Write a Python program for \"Guessing Game: Guess the Number Challenge\"\n",
        "\n",
        "Step 1: Use a random function to generate a number.\n",
        "\n",
        "##### Game starts.......\n",
        "\n",
        "Step 2: Prompt the user to guess an integer number. Provide a range if needed to give the user context for their guess.\n",
        "\n",
        "Step 3: Check the condition of the guessed number compared to the generated number and provide feedback accordingly. For example, if the guess is too high or too low, inform the user.\n",
        "\n",
        "Step 4.1: If the guess is incorrect, allow the user to guess again. Repeat this process for a maximum of 10 guesses.\n",
        "\n",
        "Step 4.2: If the user guesses the number correctly, inform them that they have won. Also, indicate how many guesses were needed before guessing correctly.\n",
        "\n",
        "Step 4.3: If the user exhausts all 10 guesses without guessing the correct number, say \"goodbye.\"\n",
        "\n",
        "##### Game ends ...\n",
        "\n",
        "Step 5: Regardless of winning or losing, ask the user if they want to play again. This ensures the program's continuity and gives the user the option to continue playing if they wish."
      ]
    },
    {
      "cell_type": "code",
      "execution_count": null,
      "metadata": {
        "colab": {
          "base_uri": "https://localhost:8080/"
        },
        "id": "hZ8tXjLzgQ3O",
        "outputId": "db7248a8-bf00-41b0-fe4a-8171386298a0"
      },
      "outputs": [
        {
          "output_type": "stream",
          "name": "stdout",
          "text": [
            "\n",
            "Game starts.......\n",
            "Guess the number between 1 and 100.\n"
          ]
        }
      ],
      "source": [
        "\n",
        "import random\n",
        "\n",
        "def play_game():\n",
        "    number = random.randint(1, 100)  # Step 1: generate number between 1 and 100\n",
        "    attempts = 0\n",
        "    max_attempts = 10\n",
        "\n",
        "    print(\"\\nGame starts.......\")\n",
        "    print(\"Guess the number between 1 and 100.\")\n",
        "\n",
        "    while attempts < max_attempts:\n",
        "        try:\n",
        "            guess = int(input(f\"Attempt {attempts + 1}: Enter your guess: \"))  # Step 2: prompt user\n",
        "        except ValueError:\n",
        "            print(\"Invalid input! Please enter an integer.\")\n",
        "            continue\n",
        "\n",
        "        attempts += 1\n",
        "\n",
        "        if guess < number:\n",
        "            print(\"Too low.\")  # Step 3: feedback\n",
        "        elif guess > number:\n",
        "            print(\"Too high.\")\n",
        "        else:\n",
        "            print(f\"Congratulations! You guessed the number in {attempts} attempts.\")  # Step 4.2\n",
        "            break\n",
        "    else:\n",
        "        print(f\"Sorry, you've used all {max_attempts} attempts. Goodbye!\")  # Step 4.3\n",
        "\n",
        "    print(\"Game ends ...\")\n",
        "\n",
        "# Step 5: ask user if they want to play again\n",
        "while True:\n",
        "    play_game()\n",
        "    play_again = input(\"Do you want to play again? (yes/no): \").strip().lower()\n",
        "    if play_again != 'yes':\n",
        "        print(\"Thanks for playing! Goodbye!\")\n",
        "        break\n",
        "\n"
      ]
    }
  ],
  "metadata": {
    "kernelspec": {
      "display_name": "Python 3",
      "language": "python",
      "name": "python3"
    },
    "language_info": {
      "codemirror_mode": {
        "name": "ipython",
        "version": 3
      },
      "file_extension": ".py",
      "mimetype": "text/x-python",
      "name": "python",
      "nbconvert_exporter": "python",
      "pygments_lexer": "ipython3",
      "version": "3.12.1"
    },
    "colab": {
      "provenance": [],
      "include_colab_link": true
    }
  },
  "nbformat": 4,
  "nbformat_minor": 0
}